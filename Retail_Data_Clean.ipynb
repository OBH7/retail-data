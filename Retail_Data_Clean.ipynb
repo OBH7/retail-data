{
  "nbformat": 4,
  "nbformat_minor": 0,
  "metadata": {
    "colab": {
      "provenance": []
    },
    "kernelspec": {
      "name": "python3",
      "display_name": "Python 3"
    },
    "language_info": {
      "name": "python"
    }
  },
  "cells": [
    {
      "cell_type": "code",
      "execution_count": null,
      "metadata": {
        "id": "d5OQw_1I9Pyg"
      },
      "outputs": [],
      "source": [
        "# Import necessary libraries\n",
        "import pandas as pd\n",
        "from google.colab import files\n",
        "\n",
        "# Upload the dataset\n",
        "uploaded = files.upload()\n",
        "\n",
        "# Load the dataset\n",
        "data = pd.read_csv('online_retail.csv')\n",
        "\n",
        "# Checking for missing values\n",
        "print(\"Missing values per column:\")\n",
        "print(data.isnull().sum())\n",
        "\n",
        "# Remove duplicates\n",
        "data = data.drop_duplicates()\n",
        "print(f\"Number of duplicate rows after cleaning: {data.duplicated().sum()}\")\n",
        "\n",
        "# Handle missing values by dropping rows with missing CustomerID or Description\n",
        "data = data.dropna(subset=['CustomerID', 'Description'])\n",
        "print(\"Missing values after removing incomplete rows:\")\n",
        "print(data.isnull().sum())\n",
        "\n",
        "# Remove rows with invalid data (Quantity <= 0 or UnitPrice <= 0)\n",
        "data = data[(data['Quantity'] > 0) & (data['UnitPrice'] > 0)]\n",
        "print(f\"Rows after removing invalid data: {data.shape[0]}\")\n",
        "\n",
        "# Convert InvoiceDate to datetime format\n",
        "data['InvoiceDate'] = pd.to_datetime(data['InvoiceDate'])\n",
        "print(f\"Data type of InvoiceDate: {data['InvoiceDate'].dtype}\")\n",
        "\n",
        "# Add a new column for total price\n",
        "data['TotalPrice'] = data['Quantity'] * data['UnitPrice']\n",
        "print(data.head())\n",
        "\n",
        "# Save the cleaned dataset to a CSV file\n",
        "data.to_csv('cleaned_online_retail.csv', index=False)\n",
        "files.download('cleaned_online_retail.csv')\n"
      ]
    }
  ]
}